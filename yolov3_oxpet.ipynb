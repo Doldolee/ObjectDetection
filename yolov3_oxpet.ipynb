{
  "nbformat": 4,
  "nbformat_minor": 0,
  "metadata": {
    "colab": {
      "name": "yolov3_oxpet.ipynb",
      "provenance": [],
      "authorship_tag": "ABX9TyMnie1VyA6rRy6QStCGXY6J",
      "include_colab_link": true
    },
    "kernelspec": {
      "name": "python3",
      "display_name": "Python 3"
    },
    "language_info": {
      "name": "python"
    },
    "accelerator": "GPU"
  },
  "cells": [
    {
      "cell_type": "markdown",
      "metadata": {
        "id": "view-in-github",
        "colab_type": "text"
      },
      "source": [
        "<a href=\"https://colab.research.google.com/github/someStone/ObjectDetection/blob/main/yolov3_oxpet.ipynb\" target=\"_parent\"><img src=\"https://colab.research.google.com/assets/colab-badge.svg\" alt=\"Open In Colab\"/></a>"
      ]
    },
    {
      "cell_type": "code",
      "metadata": {
        "colab": {
          "base_uri": "https://localhost:8080/"
        },
        "id": "MLg5tAI4XP7Z",
        "outputId": "759558ee-89db-48a1-8a28-c1514904edc9"
      },
      "source": [
        "!git clone https://github.com/ultralytics/yolov3\n",
        "!cd yolov3;pip install -qr requirements.txt"
      ],
      "execution_count": 1,
      "outputs": [
        {
          "output_type": "stream",
          "text": [
            "Cloning into 'yolov3'...\n",
            "remote: Enumerating objects: 9862, done.\u001b[K\n",
            "remote: Total 9862 (delta 0), reused 0 (delta 0), pack-reused 9862\u001b[K\n",
            "Receiving objects: 100% (9862/9862), 9.19 MiB | 29.41 MiB/s, done.\n",
            "Resolving deltas: 100% (6667/6667), done.\n",
            "\u001b[K     |████████████████████████████████| 636 kB 8.3 MB/s \n",
            "\u001b[?25h"
          ],
          "name": "stdout"
        }
      ]
    },
    {
      "cell_type": "code",
      "metadata": {
        "colab": {
          "base_uri": "https://localhost:8080/"
        },
        "id": "Yj5PSE9GXg2o",
        "outputId": "cbb9e00c-4630-4d70-d684-ecff48d63871"
      },
      "source": [
        "import torch\n",
        "from IPython.display import Image, clear_output  # to display images\n",
        "\n",
        "clear_output()\n",
        "print(f\"Setup complete. Using torch {torch.__version__} ({torch.cuda.get_device_properties(0).name if torch.cuda.is_available() else 'CPU'})\")"
      ],
      "execution_count": 2,
      "outputs": [
        {
          "output_type": "stream",
          "text": [
            "Setup complete. Using torch 1.9.0+cu102 (Tesla T4)\n"
          ],
          "name": "stdout"
        }
      ]
    },
    {
      "cell_type": "code",
      "metadata": {
        "colab": {
          "base_uri": "https://localhost:8080/"
        },
        "id": "NA5UiJKCXiJF",
        "outputId": "e2d3cf7f-5431-4d2c-a029-0058c55d1d45"
      },
      "source": [
        "!wget https://www.robots.ox.ac.uk/~vgg/data/pets/data/images.tar.gz\n",
        "!wget https://www.robots.ox.ac.uk/~vgg/data/pets/data/annotations.tar.gz"
      ],
      "execution_count": 3,
      "outputs": [
        {
          "output_type": "stream",
          "text": [
            "--2021-07-27 09:49:49--  https://www.robots.ox.ac.uk/~vgg/data/pets/data/images.tar.gz\n",
            "Resolving www.robots.ox.ac.uk (www.robots.ox.ac.uk)... 129.67.94.2\n",
            "Connecting to www.robots.ox.ac.uk (www.robots.ox.ac.uk)|129.67.94.2|:443... connected.\n",
            "HTTP request sent, awaiting response... 200 OK\n",
            "Length: 791918971 (755M) [application/x-gzip]\n",
            "Saving to: ‘images.tar.gz’\n",
            "\n",
            "images.tar.gz       100%[===================>] 755.23M  20.3MB/s    in 37s     \n",
            "\n",
            "2021-07-27 09:50:27 (20.4 MB/s) - ‘images.tar.gz’ saved [791918971/791918971]\n",
            "\n",
            "--2021-07-27 09:50:27--  https://www.robots.ox.ac.uk/~vgg/data/pets/data/annotations.tar.gz\n",
            "Resolving www.robots.ox.ac.uk (www.robots.ox.ac.uk)... 129.67.94.2\n",
            "Connecting to www.robots.ox.ac.uk (www.robots.ox.ac.uk)|129.67.94.2|:443... connected.\n",
            "HTTP request sent, awaiting response... 200 OK\n",
            "Length: 19173078 (18M) [application/x-gzip]\n",
            "Saving to: ‘annotations.tar.gz’\n",
            "\n",
            "annotations.tar.gz  100%[===================>]  18.28M  10.9MB/s    in 1.7s    \n",
            "\n",
            "2021-07-27 09:50:29 (10.9 MB/s) - ‘annotations.tar.gz’ saved [19173078/19173078]\n",
            "\n"
          ],
          "name": "stdout"
        }
      ]
    },
    {
      "cell_type": "code",
      "metadata": {
        "id": "7JXWJ0gvXtNS"
      },
      "source": [
        "!mkdir /content/data\n",
        "!tar -xvf images.tar.gz -C /content/data\n",
        "!tar -xvf annotations.tar.gz -C /content/data"
      ],
      "execution_count": null,
      "outputs": []
    },
    {
      "cell_type": "code",
      "metadata": {
        "id": "7HBgfnfLX8FC"
      },
      "source": [
        "\n",
        "!mkdir /content/ox_pet;\n",
        "!cd /content/ox_pet; mkdir images; mkdir labels;\n",
        "!cd /content/ox_pet/images; mkdir train; mkdir val\n",
        "!cd /content/ox_pet/labels; mkdir train; mkdir val"
      ],
      "execution_count": 5,
      "outputs": []
    },
    {
      "cell_type": "code",
      "metadata": {
        "colab": {
          "base_uri": "https://localhost:8080/",
          "height": 391
        },
        "id": "K9xUOPUYZXne",
        "outputId": "f8654edc-099a-4ce3-c7f7-0fc6b3a1c7c6"
      },
      "source": [
        "import pandas as pd \n",
        "\n",
        "pd.read_csv('/content/data/annotations/trainval.txt', sep=' ', header=None, names=['img_name', 'class_id', 'etc1', 'etc2'])"
      ],
      "execution_count": 6,
      "outputs": [
        {
          "output_type": "execute_result",
          "data": {
            "text/html": [
              "<div>\n",
              "<style scoped>\n",
              "    .dataframe tbody tr th:only-of-type {\n",
              "        vertical-align: middle;\n",
              "    }\n",
              "\n",
              "    .dataframe tbody tr th {\n",
              "        vertical-align: top;\n",
              "    }\n",
              "\n",
              "    .dataframe thead th {\n",
              "        text-align: right;\n",
              "    }\n",
              "</style>\n",
              "<table border=\"1\" class=\"dataframe\">\n",
              "  <thead>\n",
              "    <tr style=\"text-align: right;\">\n",
              "      <th></th>\n",
              "      <th>img_name</th>\n",
              "      <th>class_id</th>\n",
              "      <th>etc1</th>\n",
              "      <th>etc2</th>\n",
              "    </tr>\n",
              "  </thead>\n",
              "  <tbody>\n",
              "    <tr>\n",
              "      <th>0</th>\n",
              "      <td>Abyssinian_100</td>\n",
              "      <td>1</td>\n",
              "      <td>1</td>\n",
              "      <td>1</td>\n",
              "    </tr>\n",
              "    <tr>\n",
              "      <th>1</th>\n",
              "      <td>Abyssinian_101</td>\n",
              "      <td>1</td>\n",
              "      <td>1</td>\n",
              "      <td>1</td>\n",
              "    </tr>\n",
              "    <tr>\n",
              "      <th>2</th>\n",
              "      <td>Abyssinian_102</td>\n",
              "      <td>1</td>\n",
              "      <td>1</td>\n",
              "      <td>1</td>\n",
              "    </tr>\n",
              "    <tr>\n",
              "      <th>3</th>\n",
              "      <td>Abyssinian_103</td>\n",
              "      <td>1</td>\n",
              "      <td>1</td>\n",
              "      <td>1</td>\n",
              "    </tr>\n",
              "    <tr>\n",
              "      <th>4</th>\n",
              "      <td>Abyssinian_104</td>\n",
              "      <td>1</td>\n",
              "      <td>1</td>\n",
              "      <td>1</td>\n",
              "    </tr>\n",
              "    <tr>\n",
              "      <th>...</th>\n",
              "      <td>...</td>\n",
              "      <td>...</td>\n",
              "      <td>...</td>\n",
              "      <td>...</td>\n",
              "    </tr>\n",
              "    <tr>\n",
              "      <th>3675</th>\n",
              "      <td>yorkshire_terrier_187</td>\n",
              "      <td>37</td>\n",
              "      <td>2</td>\n",
              "      <td>25</td>\n",
              "    </tr>\n",
              "    <tr>\n",
              "      <th>3676</th>\n",
              "      <td>yorkshire_terrier_188</td>\n",
              "      <td>37</td>\n",
              "      <td>2</td>\n",
              "      <td>25</td>\n",
              "    </tr>\n",
              "    <tr>\n",
              "      <th>3677</th>\n",
              "      <td>yorkshire_terrier_189</td>\n",
              "      <td>37</td>\n",
              "      <td>2</td>\n",
              "      <td>25</td>\n",
              "    </tr>\n",
              "    <tr>\n",
              "      <th>3678</th>\n",
              "      <td>yorkshire_terrier_18</td>\n",
              "      <td>37</td>\n",
              "      <td>2</td>\n",
              "      <td>25</td>\n",
              "    </tr>\n",
              "    <tr>\n",
              "      <th>3679</th>\n",
              "      <td>yorkshire_terrier_190</td>\n",
              "      <td>37</td>\n",
              "      <td>2</td>\n",
              "      <td>25</td>\n",
              "    </tr>\n",
              "  </tbody>\n",
              "</table>\n",
              "<p>3680 rows × 4 columns</p>\n",
              "</div>"
            ],
            "text/plain": [
              "                   img_name  class_id  etc1  etc2\n",
              "0            Abyssinian_100         1     1     1\n",
              "1            Abyssinian_101         1     1     1\n",
              "2            Abyssinian_102         1     1     1\n",
              "3            Abyssinian_103         1     1     1\n",
              "4            Abyssinian_104         1     1     1\n",
              "...                     ...       ...   ...   ...\n",
              "3675  yorkshire_terrier_187        37     2    25\n",
              "3676  yorkshire_terrier_188        37     2    25\n",
              "3677  yorkshire_terrier_189        37     2    25\n",
              "3678   yorkshire_terrier_18        37     2    25\n",
              "3679  yorkshire_terrier_190        37     2    25\n",
              "\n",
              "[3680 rows x 4 columns]"
            ]
          },
          "metadata": {
            "tags": []
          },
          "execution_count": 6
        }
      ]
    },
    {
      "cell_type": "code",
      "metadata": {
        "colab": {
          "base_uri": "https://localhost:8080/"
        },
        "id": "xrVbsUktZmeh",
        "outputId": "7d611aff-ae33-4933-e735-e67c4fce9e1d"
      },
      "source": [
        "import os\n",
        "import pandas as pd\n",
        "from sklearn.model_selection import train_test_split\n",
        "\n",
        "def make_train_valid_df(list_filepath, img_dir, anno_dir, test_size=0.1):\n",
        "  pet_df = pd.read_csv(list_filepath, sep=' ', header=None, names=['img_name', 'class_id', 'etc1', 'etc2'])\n",
        "  pet_df['class_name'] = pet_df['img_name'].apply(lambda x:x[:x.rfind('_')])\n",
        "  \n",
        "  pet_df['img_filepath'] = img_dir + pet_df['img_name']+'.jpg'\n",
        "  pet_df['anno_filepath'] = anno_dir + pet_df['img_name']+'.xml'\n",
        "  pet_df = remove_no_annos(pet_df)\n",
        "\n",
        "  train_df, val_df = train_test_split(pet_df, test_size=test_size, stratify=pet_df['class_id'], random_state=2021)\n",
        "  return pet_df, train_df, val_df\n",
        "\n",
        "def remove_no_annos(df):\n",
        "  remove_rows = []\n",
        "  for index, row in df.iterrows():\n",
        "    anno_filepath = row['anno_filepath']\n",
        "    if not os.path.exists(anno_filepath):\n",
        "      print('##### index:', index, anno_filepath, '가 존재하지 않아서 Dataframe에서 삭제함')\n",
        "      remove_rows.append(index)\n",
        "  df = df.drop(remove_rows, axis=0, inplace=False)\n",
        "  return df\n",
        "\n",
        "\n",
        "pet_df, train_df, val_df = make_train_valid_df('/content/data/annotations/trainval.txt', \n",
        "                                               '/content/data/images/', '/content/data/annotations/xmls/', test_size=0.1)"
      ],
      "execution_count": 7,
      "outputs": [
        {
          "output_type": "stream",
          "text": [
            "##### index: 4 /content/data/annotations/xmls/Abyssinian_104.xml 가 존재하지 않아서 Dataframe에서 삭제함\n",
            "##### index: 262 /content/data/annotations/xmls/Bengal_111.xml 가 존재하지 않아서 Dataframe에서 삭제함\n",
            "##### index: 1456 /content/data/annotations/xmls/samoyed_10.xml 가 존재하지 않아서 Dataframe에서 삭제함\n",
            "##### index: 2128 /content/data/annotations/xmls/Bengal_175.xml 가 존재하지 않아서 Dataframe에서 삭제함\n",
            "##### index: 2395 /content/data/annotations/xmls/Egyptian_Mau_14.xml 가 존재하지 않아서 Dataframe에서 삭제함\n",
            "##### index: 2402 /content/data/annotations/xmls/Egyptian_Mau_156.xml 가 존재하지 않아서 Dataframe에서 삭제함\n",
            "##### index: 2427 /content/data/annotations/xmls/Egyptian_Mau_186.xml 가 존재하지 않아서 Dataframe에서 삭제함\n",
            "##### index: 3177 /content/data/annotations/xmls/Ragdoll_199.xml 가 존재하지 않아서 Dataframe에서 삭제함\n",
            "##### index: 3246 /content/data/annotations/xmls/saint_bernard_15.xml 가 존재하지 않아서 Dataframe에서 삭제함\n"
          ],
          "name": "stdout"
        }
      ]
    },
    {
      "cell_type": "code",
      "metadata": {
        "colab": {
          "base_uri": "https://localhost:8080/"
        },
        "id": "7I8UhZDNa_FF",
        "outputId": "d605f4d1-01d3-4467-c3f1-69f2be856993"
      },
      "source": [
        "CLASS_NAMES = pet_df['class_name'].unique().tolist()\n",
        "print(CLASS_NAMES)"
      ],
      "execution_count": 8,
      "outputs": [
        {
          "output_type": "stream",
          "text": [
            "['Abyssinian', 'american_bulldog', 'american_pit_bull_terrier', 'basset_hound', 'beagle', 'Bengal', 'Birman', 'Bombay', 'boxer', 'British_Shorthair', 'chihuahua', 'Egyptian_Mau', 'english_cocker_spaniel', 'english_setter', 'german_shorthaired', 'great_pyrenees', 'havanese', 'japanese_chin', 'keeshond', 'leonberger', 'Maine_Coon', 'miniature_pinscher', 'newfoundland', 'Persian', 'pomeranian', 'pug', 'Ragdoll', 'Russian_Blue', 'saint_bernard', 'samoyed', 'scottish_terrier', 'shiba_inu', 'Siamese', 'Sphynx', 'staffordshire_bull_terrier', 'wheaten_terrier', 'yorkshire_terrier']\n"
          ],
          "name": "stdout"
        }
      ]
    },
    {
      "cell_type": "code",
      "metadata": {
        "id": "xTRDnop8bm-w"
      },
      "source": [
        "import glob\n",
        "import xml.etree.ElementTree as ET\n",
        "\n",
        "def xml_to_txt(input_xml_file, output_txt_file, object_name):\n",
        "  tree = ET.parse(input_xml_file)\n",
        "  root = tree.getroot()\n",
        "  img_node = root.find('size')\n",
        "  if img_node is None:\n",
        "    return None\n",
        "  img_width = int(img_node.find('width').text)\n",
        "  img_height = int(img_node.find('height').text)\n",
        "\n",
        "  value_str = None\n",
        "  with open(output_txt_file, 'w') as output_fpointer:\n",
        "    for obj in root.findall('object'): \n",
        "        xmlbox = obj.find('bndbox')\n",
        "        x1 = int(xmlbox.find('xmin').text)\n",
        "        y1 = int(xmlbox.find('ymin').text)\n",
        "        x2 = int(xmlbox.find('xmax').text)\n",
        "        y2 = int(xmlbox.find('ymax').text)\n",
        "        if (x1 < 0) or (x2 < 0) or (y1 < 0) or (y2 < 0):\n",
        "          break\n",
        "        class_id, cx_norm, cy_norm, w_norm, h_norm = convert_yolo_coord(object_name, img_width, img_height, x1, y1, x2, y2)\n",
        "        value_str = ('{0} {1} {2} {3} {4}').format(class_id, cx_norm, cy_norm, w_norm, h_norm)\n",
        "        output_fpointer.write(value_str+'\\n')\n",
        "\n",
        "def convert_yolo_coord(object_name, img_width, img_height, x1, y1, x2, y2):\n",
        "  class_id = CLASS_NAMES.index(object_name)\n",
        "  center_x = (x1 + x2)/2\n",
        "  center_y = (y1 + y2)/2\n",
        "  width = x2 - x1\n",
        "  height = y2 - y1\n",
        "  center_x_norm = center_x / img_width\n",
        "  center_y_norm = center_y / img_height\n",
        "  width_norm = width / img_width\n",
        "  height_norm = height / img_height\n",
        "\n",
        "  return class_id, round(center_x_norm, 7), round(center_y_norm, 7), round(width_norm, 7), round(height_norm, 7)"
      ],
      "execution_count": 9,
      "outputs": []
    },
    {
      "cell_type": "code",
      "metadata": {
        "colab": {
          "base_uri": "https://localhost:8080/"
        },
        "id": "PaNAlmgscTsL",
        "outputId": "2be6dd62-f0ca-4fbc-dbe8-deea6a6e7983"
      },
      "source": [
        " class_id = CLASS_NAMES.index('yorkshire_terrier')\n",
        " print(class_id)"
      ],
      "execution_count": 10,
      "outputs": [
        {
          "output_type": "stream",
          "text": [
            "36\n"
          ],
          "name": "stdout"
        }
      ]
    },
    {
      "cell_type": "code",
      "metadata": {
        "id": "2IMc3Pm9caUL"
      },
      "source": [
        "import shutil\n",
        "\n",
        "def make_yolo_anno_file(df, tgt_images_dir, tgt_labels_dir):\n",
        "  for index, row in df.iterrows():\n",
        "    src_image_path = row['img_filepath']\n",
        "    src_label_path = row['anno_filepath'] \n",
        "    object_name = row['class_name']\n",
        "    target_label_path = tgt_labels_dir + row['img_name']+'.txt'\n",
        "    shutil.copy(src_image_path, tgt_images_dir)\n",
        "    xml_to_txt(src_label_path, target_label_path, object_name)\n",
        "\n",
        "make_yolo_anno_file(train_df, '/content/ox_pet/images/train/', '/content/ox_pet/labels/train/')\n",
        "make_yolo_anno_file(val_df, '/content/ox_pet/images/val/', '/content/ox_pet/labels/val/')"
      ],
      "execution_count": null,
      "outputs": []
    },
    {
      "cell_type": "code",
      "metadata": {
        "id": "Yne3UM3fsGqI"
      },
      "source": [
        "!wget -O /content/ox_pet/ox_pet.yaml https://raw.githubusercontent.com/chulminkw/DLCV/master/data/util/ox_pet.yaml"
      ],
      "execution_count": null,
      "outputs": []
    },
    {
      "cell_type": "code",
      "metadata": {
        "id": "IF032SsnsMZB"
      },
      "source": [
        " \n",
        "import os, sys \n",
        "from google.colab import drive \n",
        "\n",
        "drive.mount('/content/gdrive')"
      ],
      "execution_count": null,
      "outputs": []
    },
    {
      "cell_type": "code",
      "metadata": {
        "id": "rMM7anqusNvQ"
      },
      "source": [
        "!ln -s /content/gdrive/My\\ Drive/ /mydrive\n",
        "!ls /mydrive"
      ],
      "execution_count": null,
      "outputs": []
    },
    {
      "cell_type": "code",
      "metadata": {
        "id": "o5QJ7yImsO3r"
      },
      "source": [
        "!mkdir \"/mydrive/ultra_workdir\""
      ],
      "execution_count": null,
      "outputs": []
    },
    {
      "cell_type": "code",
      "metadata": {
        "id": "UiWuNeQUsQJi"
      },
      "source": [
        "!cd /content/yolov3; python train.py --img 640 --batch 16 --epochs 20 --data /content/ox_pet/ox_pet.yaml --weights yolov3.pt --project=/mydrive/ultra_workdir \\\n",
        "                                     --name pet --exist-ok "
      ],
      "execution_count": null,
      "outputs": []
    },
    {
      "cell_type": "code",
      "metadata": {
        "id": "FT_Y8QpRsRkJ"
      },
      "source": [
        "!cd yolov3;python detect.py --source /content/data/images/pug_100.jpg --weights /mydrive/ultra_workdir/pet/weights/best.pt --conf 0.2 \\\n",
        "                            --project=/content/data/output --name=run_image --exist-ok --line-thickness 2"
      ],
      "execution_count": null,
      "outputs": []
    },
    {
      "cell_type": "code",
      "metadata": {
        "id": "fkPD6hxBsVdk"
      },
      "source": [
        "!wget -O /content/data/ox_dog.mp4  https://github.com/chulminkw/DLCV/blob/master/data/video/ox_dog.mp4?raw=true"
      ],
      "execution_count": null,
      "outputs": []
    },
    {
      "cell_type": "code",
      "metadata": {
        "id": "n2Qflh03sYDk"
      },
      "source": [
        "!cd yolov3; python detect.py --source /content/data/ox_dog.mp4 --weights /mydrive/ultra_workdir/pet/weights/best.pt \\\n",
        "                  --project /content/data/output --name run_video --exist-ok --line-thickness 3 --conf 0.4 --iou=0.6"
      ],
      "execution_count": null,
      "outputs": []
    },
    {
      "cell_type": "code",
      "metadata": {
        "id": "phXvl5tzsaUG"
      },
      "source": [
        "from IPython.display import Image, clear_output \n",
        "\n",
        "Image(filename='/content/data/images/american_bulldog_101.jpg', width=400)"
      ],
      "execution_count": null,
      "outputs": []
    },
    {
      "cell_type": "code",
      "metadata": {
        "id": "a6TczAQfsbL0"
      },
      "source": [
        "Image(filename='/content/data/images/boxer_100.jpg', width=400)"
      ],
      "execution_count": null,
      "outputs": []
    },
    {
      "cell_type": "code",
      "metadata": {
        "id": "-13lhawJscik"
      },
      "source": [
        "# Run YOLOv3 on COCO val2017\n",
        "!cd yolov3; python test.py --weights /mydrive/ultra_workdir/pet/weights/best.pt  --data /content/ox_pet/ox_pet.yaml \\\n",
        "                           --project /content/data/output --name=test_result --exist-ok --img 640 --iou 0.65\n"
      ],
      "execution_count": null,
      "outputs": []
    },
    {
      "cell_type": "code",
      "metadata": {
        "id": "RqXhlJIEsdY6"
      },
      "source": [
        "Image(filename='/content/data/output/test_result/confusion_matrix.png', width=800)"
      ],
      "execution_count": null,
      "outputs": []
    }
  ]
}