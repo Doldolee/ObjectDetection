{
  "nbformat": 4,
  "nbformat_minor": 0,
  "metadata": {
    "colab": {
      "name": "FasterRCNN_mm_kitti.ipynb",
      "provenance": [],
      "authorship_tag": "ABX9TyOckwPRub9q5zcsR/GOYYfw",
      "include_colab_link": true
    },
    "kernelspec": {
      "name": "python3",
      "display_name": "Python 3"
    },
    "language_info": {
      "name": "python"
    },
    "accelerator": "GPU"
  },
  "cells": [
    {
      "cell_type": "markdown",
      "metadata": {
        "id": "view-in-github",
        "colab_type": "text"
      },
      "source": [
        "<a href=\"https://colab.research.google.com/github/crater-creator/ObjectDetection/blob/main/FasterRCNN_mm_kitti.ipynb\" target=\"_parent\"><img src=\"https://colab.research.google.com/assets/colab-badge.svg\" alt=\"Open In Colab\"/></a>"
      ]
    },
    {
      "cell_type": "code",
      "metadata": {
        "id": "UtYmf06Eomtj"
      },
      "source": [
        "!pip install mmcv-full\n",
        "# mmdetection 설치 \n",
        "!git clone https://github.com/open-mmlab/mmdetection.git\n",
        "!cd mmdetection; python setup.py install"
      ],
      "execution_count": null,
      "outputs": []
    },
    {
      "cell_type": "code",
      "metadata": {
        "id": "OLma4n_xo_Ym"
      },
      "source": [
        "from mmdet.apis import init_detector, inference_detector\n",
        "import mmcv"
      ],
      "execution_count": 1,
      "outputs": []
    },
    {
      "cell_type": "code",
      "metadata": {
        "colab": {
          "base_uri": "https://localhost:8080/"
        },
        "id": "k1_6_X9sZscP",
        "outputId": "65ee5c40-aa9d-4c3d-c6fd-5f1cc4dc9ae4"
      },
      "source": [
        "!wget https://download.openmmlab.com/mmdetection/data/kitti_tiny.zip\n",
        "!unzip kitti_tiny.zip > /dev/null"
      ],
      "execution_count": 2,
      "outputs": [
        {
          "output_type": "stream",
          "text": [
            "--2021-07-02 05:53:56--  https://download.openmmlab.com/mmdetection/data/kitti_tiny.zip\n",
            "Resolving download.openmmlab.com (download.openmmlab.com)... 47.88.36.78\n",
            "Connecting to download.openmmlab.com (download.openmmlab.com)|47.88.36.78|:443... connected.\n",
            "HTTP request sent, awaiting response... 200 OK\n",
            "Length: 6918271 (6.6M) [application/zip]\n",
            "Saving to: ‘kitti_tiny.zip’\n",
            "\n",
            "kitti_tiny.zip      100%[===================>]   6.60M  6.19MB/s    in 1.1s    \n",
            "\n",
            "2021-07-02 05:53:58 (6.19 MB/s) - ‘kitti_tiny.zip’ saved [6918271/6918271]\n",
            "\n"
          ],
          "name": "stdout"
        }
      ]
    },
    {
      "cell_type": "code",
      "metadata": {
        "id": "GZeOc-EkZL_m"
      },
      "source": [
        "import cv2\n",
        "import matplotlib.pyplot as plt\n",
        "\n",
        "img = cv2.cvtColor(cv2.imread(\"/content/kitti_tiny/training/image_2/000068.jpeg\"), cv2.COLOR_BGR2RGB)\n",
        "plt.figure(figsize=(12,12))\n",
        "plt.imshow(img)"
      ],
      "execution_count": null,
      "outputs": []
    },
    {
      "cell_type": "code",
      "metadata": {
        "id": "AErAhIHZhx-T",
        "colab": {
          "base_uri": "https://localhost:8080/"
        },
        "outputId": "1a3278ff-afea-4ae0-f3df-ec7576560156"
      },
      "source": [
        "CLASSES = ('Car','Truck','Pedestrian','Cyclist')\n",
        "cat2label = {k:i for i, k in enumerate(CLASSES)}\n",
        "print(cat2label)\n",
        "cat2label['Car']"
      ],
      "execution_count": 4,
      "outputs": [
        {
          "output_type": "stream",
          "text": [
            "{'Car': 0, 'Truck': 1, 'Pedestrian': 2, 'Cyclist': 3}\n"
          ],
          "name": "stdout"
        },
        {
          "output_type": "execute_result",
          "data": {
            "text/plain": [
              "0"
            ]
          },
          "metadata": {
            "tags": []
          },
          "execution_count": 4
        }
      ]
    },
    {
      "cell_type": "code",
      "metadata": {
        "id": "SdaputsCyLU8"
      },
      "source": [
        "image_list = mmcv.list_from_file('/content/kitti_tiny/train.txt')"
      ],
      "execution_count": 5,
      "outputs": []
    },
    {
      "cell_type": "code",
      "metadata": {
        "colab": {
          "base_uri": "https://localhost:8080/"
        },
        "id": "USTQyXmIyQ5M",
        "outputId": "a1bb8e9c-7372-49ca-afba-77721f0504b2"
      },
      "source": [
        "lines = mmcv.list_from_file('/content/kitti_tiny/training/label_2/000064.txt')\n",
        "content= [line.strip().split(' ') for line in lines]\n",
        "bbox_names = [x[0] for x in content]\n",
        "bboxes = [ [float(info) for info in x[4:8]] for x in content]\n",
        "print(bboxes)"
      ],
      "execution_count": 15,
      "outputs": [
        {
          "output_type": "stream",
          "text": [
            "[[657.65, 179.93, 709.86, 219.92], [731.51, 180.39, 882.28, 275.8], [715.18, 175.63, 762.77, 203.9], [816.58, 59.74, 1112.51, 266.07], [626.78, 174.27, 647.77, 192.18], [546.19, 168.97, 554.01, 177.09]]\n"
          ],
          "name": "stdout"
        }
      ]
    },
    {
      "cell_type": "code",
      "metadata": {
        "id": "zY1ehBJaynqb"
      },
      "source": [
        "import copy\n",
        "import os.path as osp\n",
        "import cv2\n",
        "\n",
        "import mmcv\n",
        "import numpy as np\n",
        "\n",
        "from mmdet.datasets.builder import DATASETS\n",
        "from mmdet.datasets.custom import CustomDataset\n",
        "\n",
        "# 반드시 아래 Decorator 설정 할것.@DATASETS.register_module() 설정 시 force=True를 입력하지 않으면 Dataset 재등록 불가. \n",
        "@DATASETS.register_module(force=True)\n",
        "class KittyTinyDataset(CustomDataset):\n",
        "  CLASSES = ('Car', 'Truck', 'Pedestrian', 'Cyclist')\n",
        "  \n",
        "  ##### self.data_root: /content/kitti_tiny/ self.ann_file: /content/kitti_tiny/train.txt self.img_prefix: /content/kitti_tiny/training/image_2\n",
        "  #### ann_file: /content/kitti_tiny/train.txt\n",
        "  # annotation에 대한 모든 파일명을 가지고 있는 텍스트 파일을 __init__(self, ann_file)로 입력 받고, 이 self.ann_file이 load_annotations()의 인자로 입력\n",
        "  def load_annotations(self, ann_file):\n",
        "    print('##### self.data_root:', self.data_root, 'self.ann_file:', self.ann_file, 'self.img_prefix:', self.img_prefix)\n",
        "    print('#### ann_file:', ann_file)\n",
        "    cat2label = {k:i for i, k in enumerate(self.CLASSES)}\n",
        "    image_list = mmcv.list_from_file(self.ann_file)\n",
        "    # 포맷 중립 데이터를 담을 list 객체\n",
        "    data_infos = []\n",
        "    \n",
        "    for image_id in image_list:\n",
        "      filename = '{0:}/{1:}.jpeg'.format(self.img_prefix, image_id)\n",
        "      # 원본 이미지의 너비, 높이를 image를 직접 로드하여 구함. \n",
        "      image = cv2.imread(filename)\n",
        "      height, width = image.shape[:2]\n",
        "      # 개별 image의 annotation 정보 저장용 Dict 생성. key값 filename 에는 image의 파일명만 들어감(디렉토리는 제외)\n",
        "      data_info = {'filename': str(image_id) + '.jpeg',\n",
        "                   'width': width, 'height': height}\n",
        "      # 개별 annotation이 있는 서브 디렉토리의 prefix 변환. \n",
        "      label_prefix = self.img_prefix.replace('image_2', 'label_2')\n",
        "      # 개별 annotation 파일을 1개 line 씩 읽어서 list 로드 \n",
        "      lines = mmcv.list_from_file(osp.join(label_prefix, str(image_id)+'.txt'))\n",
        "\n",
        "      # 전체 lines를 개별 line별 공백 레벨로 parsing 하여 다시 list로 저장. content는 list의 list형태임.\n",
        "      # ann 정보는 numpy array로 저장되나 텍스트 처리나 데이터 가공이 list 가 편하므로 일차적으로 list로 변환 수행.   \n",
        "      content = [line.strip().split(' ') for line in lines]\n",
        "      # 오브젝트의 클래스명은 bbox_names로 저장. \n",
        "      bbox_names = [x[0] for x in content]\n",
        "      # bbox 좌표를 저장\n",
        "      bboxes = [ [float(info) for info in x[4:8]] for x in content]\n",
        "\n",
        "      # 클래스명이 해당 사항이 없는 대상 Filtering out, 'DontCare'sms ignore로 별도 저장.\n",
        "      gt_bboxes = []\n",
        "      gt_labels = []\n",
        "      gt_bboxes_ignore = []\n",
        "      gt_labels_ignore = []\n",
        "\n",
        "      for bbox_name, bbox in zip(bbox_names, bboxes):\n",
        "        # 만약 bbox_name이 클래스명에 해당 되면, gt_bboxes와 gt_labels에 추가, 그렇지 않으면 gt_bboxes_ignore, gt_labels_ignore에 추가\n",
        "        if bbox_name in cat2label:\n",
        "          gt_bboxes.append(bbox)\n",
        "          # gt_labels에는 class id를 입력\n",
        "          gt_labels.append(cat2label[bbox_name])\n",
        "        else:\n",
        "          gt_bboxes_ignore.append(bbox)\n",
        "          gt_labels_ignore.append(-1)\n",
        "      # 개별 image별 annotation 정보를 가지는 Dict 생성. 해당 Dict의 value값은 모두 np.array임. \n",
        "      data_anno = {\n",
        "          'bboxes': np.array(gt_bboxes, dtype=np.float32).reshape(-1, 4),\n",
        "          'labels': np.array(gt_labels, dtype=np.long),\n",
        "          'bboxes_ignore': np.array(gt_bboxes_ignore, dtype=np.float32).reshape(-1, 4),\n",
        "          'labels_ignore': np.array(gt_labels_ignore, dtype=np.long)\n",
        "      }\n",
        "      # image에 대한 메타 정보를 가지는 data_info Dict에 'ann' key값으로 data_anno를 value로 저장. \n",
        "      data_info.update(ann=data_anno)\n",
        "      # 전체 annotation 파일들에 대한 정보를 가지는 data_infos에 data_info Dict를 추가\n",
        "      data_infos.append(data_info)\n",
        "\n",
        "    return data_infos"
      ],
      "execution_count": 26,
      "outputs": []
    },
    {
      "cell_type": "code",
      "metadata": {
        "id": "cbZN0NHG1-Ew"
      },
      "source": [
        "config_file = '/content/mmdetection/configs/faster_rcnn/faster_rcnn_r50_fpn_1x_coco.py'\n",
        "checkpoint_file = '/content/mmdetection/checkpoints/faster_rcnn_r50_fpn_1x_coco_20200130-047c8118.pth'"
      ],
      "execution_count": 19,
      "outputs": []
    },
    {
      "cell_type": "code",
      "metadata": {
        "colab": {
          "base_uri": "https://localhost:8080/"
        },
        "id": "WDdYk_s32J4Z",
        "outputId": "65a6367a-f7b8-4dfa-e9df-6ac76a2b8817"
      },
      "source": [
        "!cd mmdetection; mkdir checkpoints\n",
        "!wget -O /content/mmdetection/checkpoints/faster_rcnn_r50_fpn_1x_coco_20200130-047c8118.pth http://download.openmmlab.com/mmdetection/v2.0/faster_rcnn/faster_rcnn_r50_fpn_1x_coco/faster_rcnn_r50_fpn_1x_coco_20200130-047c8118.pth"
      ],
      "execution_count": 20,
      "outputs": [
        {
          "output_type": "stream",
          "text": [
            "--2021-07-02 06:12:52--  http://download.openmmlab.com/mmdetection/v2.0/faster_rcnn/faster_rcnn_r50_fpn_1x_coco/faster_rcnn_r50_fpn_1x_coco_20200130-047c8118.pth\n",
            "Resolving download.openmmlab.com (download.openmmlab.com)... 47.88.36.78\n",
            "Connecting to download.openmmlab.com (download.openmmlab.com)|47.88.36.78|:80... connected.\n",
            "HTTP request sent, awaiting response... 200 OK\n",
            "Length: 167287506 (160M) [application/octet-stream]\n",
            "Saving to: ‘/content/mmdetection/checkpoints/faster_rcnn_r50_fpn_1x_coco_20200130-047c8118.pth’\n",
            "\n",
            "/content/mmdetectio 100%[===================>] 159.54M  11.9MB/s    in 14s     \n",
            "\n",
            "2021-07-02 06:13:06 (11.8 MB/s) - ‘/content/mmdetection/checkpoints/faster_rcnn_r50_fpn_1x_coco_20200130-047c8118.pth’ saved [167287506/167287506]\n",
            "\n"
          ],
          "name": "stdout"
        }
      ]
    },
    {
      "cell_type": "code",
      "metadata": {
        "id": "HTDPUQXW63CB"
      },
      "source": [
        "from mmcv import Config\n",
        "\n",
        "cfg = Config.fromfile(config_file)\n",
        "print(cfg.pretty_text)"
      ],
      "execution_count": null,
      "outputs": []
    },
    {
      "cell_type": "code",
      "metadata": {
        "id": "SBPncirk69-H"
      },
      "source": [
        "from mmdet.apis import set_random_seed\n",
        "\n",
        "# dataset에 대한 환경 파라미터 수정. \n",
        "cfg.dataset_type = 'KittyTinyDataset'\n",
        "cfg.data_root = '/content/kitti_tiny/'\n",
        "\n",
        "# train, val, test dataset에 대한 type, data_root, ann_file, img_prefix 환경 파라미터 수정. \n",
        "cfg.data.train.type = 'KittyTinyDataset'\n",
        "cfg.data.train.data_root = '/content/kitti_tiny/'\n",
        "cfg.data.train.ann_file = 'train.txt'\n",
        "cfg.data.train.img_prefix = 'training/image_2'\n",
        "\n",
        "cfg.data.val.type = 'KittyTinyDataset'\n",
        "cfg.data.val.data_root = '/content/kitti_tiny/'\n",
        "cfg.data.val.ann_file = 'val.txt'\n",
        "cfg.data.val.img_prefix = 'training/image_2'\n",
        "\n",
        "cfg.data.test.type = 'KittyTinyDataset'\n",
        "cfg.data.test.data_root = '/content/kitti_tiny/'\n",
        "cfg.data.test.ann_file = 'val.txt'\n",
        "cfg.data.test.img_prefix = 'training/image_2'\n",
        "\n",
        "# class의 갯수 수정. \n",
        "cfg.model.roi_head.bbox_head.num_classes = 4\n",
        "# pretrained 모델\n",
        "cfg.load_from = 'checkpoints/faster_rcnn_r50_fpn_1x_coco_20200130-047c8118.pth'\n",
        "\n",
        "# 학습 weight 파일로 로그를 저장하기 위한 디렉토리 설정. \n",
        "cfg.work_dir = './tutorial_exps'\n",
        "\n",
        "# 학습율 변경 환경 파라미터 설정. \n",
        "cfg.optimizer.lr = 0.02 / 8\n",
        "\n",
        "cfg.lr_config.warmup = None\n",
        "cfg.log_config.interval = 10\n",
        "\n",
        "# config 수행 시마다 policy값이 없어지는 bug로 인하여 설정. \n",
        "cfg.lr_config.policy = 'step'\n",
        "\n",
        "# Change the evaluation metric since we use customized dataset.\n",
        "cfg.evaluation.metric = 'mAP'\n",
        "# We can set the evaluation interval to reduce the evaluation times\n",
        "cfg.evaluation.interval = 12\n",
        "# We can set the checkpoint saving interval to reduce the storage cost\n",
        "cfg.checkpoint_config.interval = 12\n",
        "\n",
        "# Set seed thus the results are more reproducible\n",
        "cfg.seed = 0\n",
        "set_random_seed(0, deterministic=False)\n",
        "cfg.gpu_ids = range(1)\n",
        "\n",
        "\n",
        "# We can initialize the logger for training and have a look\n",
        "# at the final config used for training\n",
        "print(f'Config:\\n{cfg.pretty_text}')"
      ],
      "execution_count": null,
      "outputs": []
    },
    {
      "cell_type": "code",
      "metadata": {
        "colab": {
          "base_uri": "https://localhost:8080/"
        },
        "id": "8O0nKmGv-xU1",
        "outputId": "3ddbbbe5-431f-4b70-fd59-8273af5d17c6"
      },
      "source": [
        "from mmdet.datasets import build_dataset\n",
        "from mmdet.models import build_detector\n",
        "from mmdet.apis import train_detector\n",
        "\n",
        "# train용 Dataset 생성. \n",
        "datasets = [build_dataset(cfg.data.train)]"
      ],
      "execution_count": 27,
      "outputs": [
        {
          "output_type": "stream",
          "text": [
            "##### self.data_root: /content/kitti_tiny/ self.ann_file: /content/kitti_tiny/train.txt self.img_prefix: /content/kitti_tiny/training/image_2\n",
            "#### ann_file: /content/kitti_tiny/train.txt\n"
          ],
          "name": "stdout"
        },
        {
          "output_type": "stream",
          "text": [
            "/usr/local/lib/python3.7/dist-packages/mmdet-2.14.0-py3.7.egg/mmdet/datasets/custom.py:156: UserWarning: CustomDataset does not support filtering empty gt images.\n",
            "  'CustomDataset does not support filtering empty gt images.')\n"
          ],
          "name": "stderr"
        }
      ]
    },
    {
      "cell_type": "code",
      "metadata": {
        "colab": {
          "base_uri": "https://localhost:8080/"
        },
        "id": "-bKvlEN1-90n",
        "outputId": "17273a3f-6ef8-4bce-93bc-490996e4accc"
      },
      "source": [
        "datasets"
      ],
      "execution_count": 28,
      "outputs": [
        {
          "output_type": "execute_result",
          "data": {
            "text/plain": [
              "[\n",
              " KittyTinyDataset Train dataset with number of images 50, and instance counts: \n",
              " +----------+-------+-----------+-------+----------------+-------+-------------+-------+---------------+-------+\n",
              " | category | count | category  | count | category       | count | category    | count | category      | count |\n",
              " +----------+-------+-----------+-------+----------------+-------+-------------+-------+---------------+-------+\n",
              " | 0 [Car]  | 147   | 1 [Truck] | 7     | 2 [Pedestrian] | 23    | 3 [Cyclist] | 7     | -1 background | 0     |\n",
              " +----------+-------+-----------+-------+----------------+-------+-------------+-------+---------------+-------+]"
            ]
          },
          "metadata": {
            "tags": []
          },
          "execution_count": 28
        }
      ]
    },
    {
      "cell_type": "code",
      "metadata": {
        "colab": {
          "base_uri": "https://localhost:8080/"
        },
        "id": "OiZnY0eU_hEP",
        "outputId": "d31d0f01-ec7f-4e9a-ea32-ead05ab85d4e"
      },
      "source": [
        "model = build_detector(cfg.model, train_cfg=cfg.get('train_cfg'), test_cfg=cfg.get('test_cfg'))"
      ],
      "execution_count": 29,
      "outputs": [
        {
          "output_type": "stream",
          "text": [
            "/usr/local/lib/python3.7/dist-packages/mmdet-2.14.0-py3.7.egg/mmdet/core/anchor/builder.py:16: UserWarning: ``build_anchor_generator`` would be deprecated soon, please use ``build_prior_generator`` \n",
            "  '``build_anchor_generator`` would be deprecated soon, please use '\n"
          ],
          "name": "stderr"
        }
      ]
    },
    {
      "cell_type": "code",
      "metadata": {
        "id": "St8Bo8ZRAK9R"
      },
      "source": [
        "%cd mmdetection \n",
        "\n",
        "mmcv.mkdir_or_exist(osp.abspath(cfg.work_dir))\n",
        "# epochs는 config의 runner 파라미터로 지정됨. 기본 12회 \n",
        "train_detector(model, datasets, cfg, distributed=False, validate=True)\n",
        "model.CLASSES = datasets[0].CLASSES"
      ],
      "execution_count": null,
      "outputs": []
    },
    {
      "cell_type": "code",
      "metadata": {
        "id": "ndwnGkHlASdD"
      },
      "source": [
        "from mmdet.apis import inference_detector, init_detector, show_result_pyplot\n",
        "\n",
        "# BGR Image 사용 \n",
        "img = cv2.imread('/content/kitti_tiny/training/image_2/000068.jpeg')\n",
        "\n",
        "model.cfg = cfg\n",
        "\n",
        "result = inference_detector(model, img)\n",
        "show_result_pyplot(model, img_arr, results)"
      ],
      "execution_count": null,
      "outputs": []
    },
    {
      "cell_type": "code",
      "metadata": {
        "id": "V-4rP6v5DsHZ"
      },
      "source": [
        ""
      ],
      "execution_count": null,
      "outputs": []
    },
    {
      "cell_type": "code",
      "metadata": {
        "id": "wppZGXB2D976"
      },
      "source": [
        ""
      ],
      "execution_count": null,
      "outputs": []
    }
  ]
}