{
  "nbformat": 4,
  "nbformat_minor": 0,
  "metadata": {
    "colab": {
      "name": "faster_RCNN_oxford.ipynb",
      "provenance": [],
      "authorship_tag": "ABX9TyMCdZsQtMU9gLhyn5eEjrEV",
      "include_colab_link": true
    },
    "kernelspec": {
      "name": "python3",
      "display_name": "Python 3"
    },
    "language_info": {
      "name": "python"
    },
    "accelerator": "GPU"
  },
  "cells": [
    {
      "cell_type": "markdown",
      "metadata": {
        "id": "view-in-github",
        "colab_type": "text"
      },
      "source": [
        "<a href=\"https://colab.research.google.com/github/crater-creator/ObjectDetection/blob/main/faster_RCNN_oxford.ipynb\" target=\"_parent\"><img src=\"https://colab.research.google.com/assets/colab-badge.svg\" alt=\"Open In Colab\"/></a>"
      ]
    },
    {
      "cell_type": "code",
      "metadata": {
        "id": "CrWLNcL6WN2Q"
      },
      "source": [
        "!pip install mmcv-full\n",
        "!git clone https://github.com/open-mmlab/mmdetection.git\n",
        "!cd mmdetection; python setup.py install"
      ],
      "execution_count": null,
      "outputs": []
    },
    {
      "cell_type": "code",
      "metadata": {
        "id": "OLI24f-CWarW"
      },
      "source": [
        "# 런타임->런타임 다시 시작 후 아래 수행. \n",
        "from mmdet.apis import init_detector, inference_detector\n",
        "import mmcv"
      ],
      "execution_count": 30,
      "outputs": []
    },
    {
      "cell_type": "code",
      "metadata": {
        "colab": {
          "base_uri": "https://localhost:8080/"
        },
        "id": "rQNt68MjZdEn",
        "outputId": "bc9001f4-e7fc-40bf-9ca8-bd18516290ec"
      },
      "source": [
        "!wget https://www.robots.ox.ac.uk/~vgg/data/pets/data/images.tar.gz\n",
        "!wget https://www.robots.ox.ac.uk/~vgg/data/pets/data/annotations.tar.gz"
      ],
      "execution_count": 2,
      "outputs": [
        {
          "output_type": "stream",
          "text": [
            "--2021-07-07 05:33:01--  https://www.robots.ox.ac.uk/~vgg/data/pets/data/images.tar.gz\n",
            "Resolving www.robots.ox.ac.uk (www.robots.ox.ac.uk)... 129.67.94.2\n",
            "Connecting to www.robots.ox.ac.uk (www.robots.ox.ac.uk)|129.67.94.2|:443... connected.\n",
            "HTTP request sent, awaiting response... 200 OK\n",
            "Length: 791918971 (755M) [application/x-gzip]\n",
            "Saving to: ‘images.tar.gz’\n",
            "\n",
            "images.tar.gz       100%[===================>] 755.23M  20.7MB/s    in 37s     \n",
            "\n",
            "2021-07-07 05:33:39 (20.5 MB/s) - ‘images.tar.gz’ saved [791918971/791918971]\n",
            "\n",
            "--2021-07-07 05:33:39--  https://www.robots.ox.ac.uk/~vgg/data/pets/data/annotations.tar.gz\n",
            "Resolving www.robots.ox.ac.uk (www.robots.ox.ac.uk)... 129.67.94.2\n",
            "Connecting to www.robots.ox.ac.uk (www.robots.ox.ac.uk)|129.67.94.2|:443... connected.\n",
            "HTTP request sent, awaiting response... 200 OK\n",
            "Length: 19173078 (18M) [application/x-gzip]\n",
            "Saving to: ‘annotations.tar.gz’\n",
            "\n",
            "annotations.tar.gz  100%[===================>]  18.28M  10.8MB/s    in 1.7s    \n",
            "\n",
            "2021-07-07 05:33:42 (10.8 MB/s) - ‘annotations.tar.gz’ saved [19173078/19173078]\n",
            "\n"
          ],
          "name": "stdout"
        }
      ]
    },
    {
      "cell_type": "code",
      "metadata": {
        "id": "kelsJkhYdIhN"
      },
      "source": [
        "# /content/data 디렉토리를 만들고 해당 디렉토리에 다운로드 받은 압축 파일 풀기.\n",
        "!mkdir /content/data\n",
        "!tar -xvf images.tar.gz -C /content/data\n",
        "!tar -xvf annotations.tar.gz -C /content/data"
      ],
      "execution_count": null,
      "outputs": []
    },
    {
      "cell_type": "code",
      "metadata": {
        "id": "esnSuDpNetPy"
      },
      "source": [
        "!ls -lia ./data/images/Abyss*.jpg"
      ],
      "execution_count": null,
      "outputs": []
    },
    {
      "cell_type": "code",
      "metadata": {
        "colab": {
          "base_uri": "https://localhost:8080/",
          "height": 204
        },
        "id": "-Thf4plBfM-M",
        "outputId": "b0fdbf0e-67ae-45ff-95e0-7c316e9c3953"
      },
      "source": [
        "import pandas as pd\n",
        "\n",
        "pet_df = pd.read_csv('./data/annotations/trainval.txt', sep=' ', header=None, names=['img_name', 'class_id', 'etc1', 'etc2'])\n",
        "pet_df.head()"
      ],
      "execution_count": 5,
      "outputs": [
        {
          "output_type": "execute_result",
          "data": {
            "text/html": [
              "<div>\n",
              "<style scoped>\n",
              "    .dataframe tbody tr th:only-of-type {\n",
              "        vertical-align: middle;\n",
              "    }\n",
              "\n",
              "    .dataframe tbody tr th {\n",
              "        vertical-align: top;\n",
              "    }\n",
              "\n",
              "    .dataframe thead th {\n",
              "        text-align: right;\n",
              "    }\n",
              "</style>\n",
              "<table border=\"1\" class=\"dataframe\">\n",
              "  <thead>\n",
              "    <tr style=\"text-align: right;\">\n",
              "      <th></th>\n",
              "      <th>img_name</th>\n",
              "      <th>class_id</th>\n",
              "      <th>etc1</th>\n",
              "      <th>etc2</th>\n",
              "    </tr>\n",
              "  </thead>\n",
              "  <tbody>\n",
              "    <tr>\n",
              "      <th>0</th>\n",
              "      <td>Abyssinian_100</td>\n",
              "      <td>1</td>\n",
              "      <td>1</td>\n",
              "      <td>1</td>\n",
              "    </tr>\n",
              "    <tr>\n",
              "      <th>1</th>\n",
              "      <td>Abyssinian_101</td>\n",
              "      <td>1</td>\n",
              "      <td>1</td>\n",
              "      <td>1</td>\n",
              "    </tr>\n",
              "    <tr>\n",
              "      <th>2</th>\n",
              "      <td>Abyssinian_102</td>\n",
              "      <td>1</td>\n",
              "      <td>1</td>\n",
              "      <td>1</td>\n",
              "    </tr>\n",
              "    <tr>\n",
              "      <th>3</th>\n",
              "      <td>Abyssinian_103</td>\n",
              "      <td>1</td>\n",
              "      <td>1</td>\n",
              "      <td>1</td>\n",
              "    </tr>\n",
              "    <tr>\n",
              "      <th>4</th>\n",
              "      <td>Abyssinian_104</td>\n",
              "      <td>1</td>\n",
              "      <td>1</td>\n",
              "      <td>1</td>\n",
              "    </tr>\n",
              "  </tbody>\n",
              "</table>\n",
              "</div>"
            ],
            "text/plain": [
              "         img_name  class_id  etc1  etc2\n",
              "0  Abyssinian_100         1     1     1\n",
              "1  Abyssinian_101         1     1     1\n",
              "2  Abyssinian_102         1     1     1\n",
              "3  Abyssinian_103         1     1     1\n",
              "4  Abyssinian_104         1     1     1"
            ]
          },
          "metadata": {
            "tags": []
          },
          "execution_count": 5
        }
      ]
    },
    {
      "cell_type": "code",
      "metadata": {
        "id": "-Rv47YJNffd0"
      },
      "source": [
        "pet_df['class_id'].value_counts()"
      ],
      "execution_count": null,
      "outputs": []
    },
    {
      "cell_type": "code",
      "metadata": {
        "colab": {
          "base_uri": "https://localhost:8080/",
          "height": 204
        },
        "id": "ikEyOVsAf0wo",
        "outputId": "56d4e891-26f2-407a-e5d0-7cebed6ed2ff"
      },
      "source": [
        "pet_df['class_name'] = pet_df['img_name'].apply(lambda x:x[:x.rfind('_')])\n",
        "pet_df.head()"
      ],
      "execution_count": 7,
      "outputs": [
        {
          "output_type": "execute_result",
          "data": {
            "text/html": [
              "<div>\n",
              "<style scoped>\n",
              "    .dataframe tbody tr th:only-of-type {\n",
              "        vertical-align: middle;\n",
              "    }\n",
              "\n",
              "    .dataframe tbody tr th {\n",
              "        vertical-align: top;\n",
              "    }\n",
              "\n",
              "    .dataframe thead th {\n",
              "        text-align: right;\n",
              "    }\n",
              "</style>\n",
              "<table border=\"1\" class=\"dataframe\">\n",
              "  <thead>\n",
              "    <tr style=\"text-align: right;\">\n",
              "      <th></th>\n",
              "      <th>img_name</th>\n",
              "      <th>class_id</th>\n",
              "      <th>etc1</th>\n",
              "      <th>etc2</th>\n",
              "      <th>class_name</th>\n",
              "    </tr>\n",
              "  </thead>\n",
              "  <tbody>\n",
              "    <tr>\n",
              "      <th>0</th>\n",
              "      <td>Abyssinian_100</td>\n",
              "      <td>1</td>\n",
              "      <td>1</td>\n",
              "      <td>1</td>\n",
              "      <td>Abyssinian</td>\n",
              "    </tr>\n",
              "    <tr>\n",
              "      <th>1</th>\n",
              "      <td>Abyssinian_101</td>\n",
              "      <td>1</td>\n",
              "      <td>1</td>\n",
              "      <td>1</td>\n",
              "      <td>Abyssinian</td>\n",
              "    </tr>\n",
              "    <tr>\n",
              "      <th>2</th>\n",
              "      <td>Abyssinian_102</td>\n",
              "      <td>1</td>\n",
              "      <td>1</td>\n",
              "      <td>1</td>\n",
              "      <td>Abyssinian</td>\n",
              "    </tr>\n",
              "    <tr>\n",
              "      <th>3</th>\n",
              "      <td>Abyssinian_103</td>\n",
              "      <td>1</td>\n",
              "      <td>1</td>\n",
              "      <td>1</td>\n",
              "      <td>Abyssinian</td>\n",
              "    </tr>\n",
              "    <tr>\n",
              "      <th>4</th>\n",
              "      <td>Abyssinian_104</td>\n",
              "      <td>1</td>\n",
              "      <td>1</td>\n",
              "      <td>1</td>\n",
              "      <td>Abyssinian</td>\n",
              "    </tr>\n",
              "  </tbody>\n",
              "</table>\n",
              "</div>"
            ],
            "text/plain": [
              "         img_name  class_id  etc1  etc2  class_name\n",
              "0  Abyssinian_100         1     1     1  Abyssinian\n",
              "1  Abyssinian_101         1     1     1  Abyssinian\n",
              "2  Abyssinian_102         1     1     1  Abyssinian\n",
              "3  Abyssinian_103         1     1     1  Abyssinian\n",
              "4  Abyssinian_104         1     1     1  Abyssinian"
            ]
          },
          "metadata": {
            "tags": []
          },
          "execution_count": 7
        }
      ]
    },
    {
      "cell_type": "code",
      "metadata": {
        "id": "l_-tCRRJgFrf"
      },
      "source": [
        "from sklearn.model_selection import train_test_split\n",
        "\n",
        "train_df, val_df = train_test_split(pet_df, test_size=0.1, stratify=pet_df['class_id'], random_state=2021)"
      ],
      "execution_count": 8,
      "outputs": []
    },
    {
      "cell_type": "code",
      "metadata": {
        "id": "0h-Az2oBgIe3"
      },
      "source": [
        "print(train_df['class_id'].value_counts(), val_df['class_id'].value_counts())"
      ],
      "execution_count": null,
      "outputs": []
    },
    {
      "cell_type": "code",
      "metadata": {
        "id": "YOoUkko-idnp"
      },
      "source": [
        "train_df = train_df.sort_values(by='img_name')\n",
        "val_df = val_df.sort_values(by='img_name')"
      ],
      "execution_count": 11,
      "outputs": []
    },
    {
      "cell_type": "code",
      "metadata": {
        "id": "wQ88WSpiisi_"
      },
      "source": [
        "train_df['img_name'].to_csv('./data/train.txt', sep=' ', header=False, index=False)\n",
        "val_df['img_name'].to_csv('./data/val.txt', sep=' ', header=False, index=False)"
      ],
      "execution_count": 25,
      "outputs": []
    },
    {
      "cell_type": "code",
      "metadata": {
        "colab": {
          "base_uri": "https://localhost:8080/"
        },
        "id": "v6BoV9lOjncF",
        "outputId": "f976a0d0-1800-41a6-e0e2-522d480d061a"
      },
      "source": [
        "pet_classes_list = pet_df['class_name'].unique().tolist()\n",
        "print(pet_classes_list)"
      ],
      "execution_count": 26,
      "outputs": [
        {
          "output_type": "stream",
          "text": [
            "['Abyssinian', 'american_bulldog', 'american_pit_bull_terrier', 'basset_hound', 'beagle', 'Bengal', 'Birman', 'Bombay', 'boxer', 'British_Shorthair', 'chihuahua', 'Egyptian_Mau', 'english_cocker_spaniel', 'english_setter', 'german_shorthaired', 'great_pyrenees', 'havanese', 'japanese_chin', 'keeshond', 'leonberger', 'Maine_Coon', 'miniature_pinscher', 'newfoundland', 'Persian', 'pomeranian', 'pug', 'Ragdoll', 'Russian_Blue', 'saint_bernard', 'samoyed', 'scottish_terrier', 'shiba_inu', 'Siamese', 'Sphynx', 'staffordshire_bull_terrier', 'wheaten_terrier', 'yorkshire_terrier']\n"
          ],
          "name": "stdout"
        }
      ]
    },
    {
      "cell_type": "code",
      "metadata": {
        "colab": {
          "base_uri": "https://localhost:8080/"
        },
        "id": "WqiXpXHYjraM",
        "outputId": "c2e42bca-a959-4728-9530-bac048b48650"
      },
      "source": [
        "!echo 'train list #####'"
      ],
      "execution_count": 27,
      "outputs": [
        {
          "output_type": "stream",
          "text": [
            "train list #####\n"
          ],
          "name": "stdout"
        }
      ]
    },
    {
      "cell_type": "code",
      "metadata": {
        "id": "YmEv4twykxiH"
      },
      "source": [
        "cat ./data/train.txt"
      ],
      "execution_count": null,
      "outputs": []
    },
    {
      "cell_type": "code",
      "metadata": {
        "id": "sI958DjCk646"
      },
      "source": [
        "import xml.etree.ElementTree as ET\n",
        "\n",
        "def get_bboxes_from_xml(anno_dir, xml_file):\n",
        "  anno_xml_file = osp.join(anno_dir, xml_file)\n",
        "  tree = ET.parse(anno_xml_file)\n",
        "  root = tree.getroot()\n",
        "  bbox_names = []\n",
        "  bboxes = []\n",
        "\n",
        "\n",
        "  for obj in root.findall('object'):\n",
        "    bbox_name = xml_file[:xml_file.rfind('_')]\n",
        "    xmlbox = obj.find('bndbox')\n",
        "    x1 = int(xmlbox.find('xmin').text)\n",
        "    y1 = int(xmlbox.find('ymin').text)\n",
        "    x2 = int(xmlbox.find('xmax').text)\n",
        "    y2 = int(xmlbox.find('ymax').text)\n",
        "\n",
        "    bboxes.append([x1, y1, x2, y2])\n",
        "    bbox_names.append(bbox_name)\n",
        "\n",
        "  return bbox_names, bboxes"
      ],
      "execution_count": 29,
      "outputs": []
    },
    {
      "cell_type": "code",
      "metadata": {
        "id": "EAP4GT9rloHE"
      },
      "source": [
        "import copy\n",
        "import os.path as osp\n",
        "\n",
        "import mmcv\n",
        "import numpy as np\n",
        "import cv2\n",
        "\n",
        "from mmdet.datasets.builder import DATASETS\n",
        "from mmdet.datasets.custom import CustomDataset\n",
        "\n",
        "import xml.etree.ElementTree as ET\n",
        "\n",
        "PET_CLASSES = pet_df['class_name'].unique().tolist()\n",
        "\n",
        "@DATASETS.register_module(force=True)\n",
        "class PetDataset(CustomDataset):\n",
        "  CLASSES = PET_CLASSES\n",
        "\n",
        "  def load_annotations(self, ann_file):\n",
        "    cat2label = {k:i for i, k in enumerate(self.CLASSES)}\n",
        "    image_list = mmcv.list_from_file(self.ann_file)\n",
        "    data_infos = []\n",
        "\n",
        "    for image_id in image_list:\n",
        "      filename = '{0:}/{1:}.jpg'.format(self.img_prefix, image_id)\n",
        "      image = cv2.imread(filename)\n",
        "      height, width = image.shape[:2]\n",
        "      data_info = {'filename': filename,\n",
        "                  'width': width, 'height': height}\n",
        "      label_prefix = self.img_prefix.replace('images', 'annotations')\n",
        "      \n",
        "      anno_xml_file = osp.join(label_prefix, 'xmls/'+str(image_id)+'.xml')\n",
        "      if not osp.exists(anno_xml_file):\n",
        "          continue\n",
        "      \n",
        "      anno_dir = osp.join(label_prefix, 'xmls')\n",
        "      bbox_names, bboxes = get_bboxes_from_xml(anno_dir, str(image_id)+'.xml')\n",
        "                  \n",
        "      gt_bboxes = []\n",
        "      gt_labels = []\n",
        "      gt_bboxes_ignore = []\n",
        "      gt_labels_ignore = []\n",
        "        \n",
        "      for bbox_name, bbox in zip(bbox_names, bboxes):\n",
        "        if bbox_name in cat2label:\n",
        "            gt_bboxes.append(bbox)\n",
        "            gt_labels.append(cat2label[bbox_name])\n",
        "        else:\n",
        "            gt_bboxes_ignore.append(bbox)\n",
        "            gt_labels_ignore.append(-1)\n",
        "      \n",
        "      data_anno = {\n",
        "        'bboxes': np.array(gt_bboxes, dtype=np.float32).reshape(-1, 4),\n",
        "        'labels': np.array(gt_labels, dtype=np.long),\n",
        "        'bboxes_ignore': np.array(gt_bboxes_ignore, dtype=np.float32).reshape(-1, 4),\n",
        "        'labels_ignore': np.array(gt_labels_ignore, dtype=np.long)\n",
        "      }\n",
        "      \n",
        "      data_info.update(ann=data_anno)\n",
        "      data_infos.append(data_info)\n",
        "\n",
        "    return data_infos"
      ],
      "execution_count": 32,
      "outputs": []
    },
    {
      "cell_type": "code",
      "metadata": {
        "id": "b5pucCAQtoeJ"
      },
      "source": [
        "import os.path as osp\n",
        "\n",
        "PET_CLASSES = pet_df['class_name'].unique().tolist()\n",
        "\n",
        "\n",
        "class PetDataset_imsi():\n",
        "  CLASSES = PET_CLASSES\n",
        "\n",
        "\n",
        "  def __init__(self, data_root, ann_file, img_prefix):\n",
        "      self.data_root = data_root\n",
        "      self.ann_file = osp.join(data_root, ann_file)\n",
        "      self.img_prefix = osp.join(data_root, img_prefix)\n",
        "      \n",
        "      self.data_infos = self.load_annotations(self.ann_file)\n",
        "\n",
        "\n",
        "  def load_annotations(self, ann_file):\n",
        "    cat2label = {k:i for i, k in enumerate(self.CLASSES)}\n",
        "    image_list = mmcv.list_from_file(self.ann_file)\n",
        "    data_infos = []\n",
        "\n",
        "    for image_id in image_list:\n",
        "      filename = '{0:}/{1:}.jpg'.format(self.img_prefix, image_id)\n",
        "      image = cv2.imread(filename)\n",
        "      height, width = image.shape[:2]\n",
        "      data_info = {'filename': filename,\n",
        "                  'width': width, 'height': height}\n",
        "      label_prefix = self.img_prefix.replace('images', 'annotations')\n",
        "      \n",
        "      anno_xml_file = osp.join(label_prefix, 'xmls/'+str(image_id)+'.xml')\n",
        "      if not osp.exists(anno_xml_file):\n",
        "          continue\n",
        "      \n",
        "      \n",
        "      anno_dir = osp.join(label_prefix, 'xmls')\n",
        "      bbox_names, bboxes = get_bboxes_from_xml(anno_dir, str(image_id)+'.xml')\n",
        "    \n",
        "                  \n",
        "      gt_bboxes = []\n",
        "      gt_labels = []\n",
        "      gt_bboxes_ignore = []\n",
        "      gt_labels_ignore = []\n",
        "        \n",
        "      \n",
        "      for bbox_name, bbox in zip(bbox_names, bboxes):\n",
        "        \n",
        "        if bbox_name in cat2label:\n",
        "            gt_bboxes.append(bbox)\n",
        "            \n",
        "            gt_labels.append(cat2label[bbox_name])\n",
        "        else:\n",
        "            gt_bboxes_ignore.append(bbox)\n",
        "            gt_labels_ignore.append(-1)\n",
        "      \n",
        "    \n",
        "      data_anno = {\n",
        "        'bboxes': np.array(gt_bboxes, dtype=np.float32).reshape(-1, 4),\n",
        "        'labels': np.array(gt_labels, dtype=np.long),\n",
        "        'bboxes_ignore': np.array(gt_bboxes_ignore, dtype=np.float32).reshape(-1, 4),\n",
        "        'labels_ignore': np.array(gt_labels_ignore, dtype=np.long)\n",
        "      }\n",
        "      \n",
        "      data_info.update(ann=data_anno)\n",
        "      data_infos.append(data_info)\n",
        "      \n",
        "\n",
        "    return data_infos"
      ],
      "execution_count": 34,
      "outputs": []
    },
    {
      "cell_type": "code",
      "metadata": {
        "colab": {
          "base_uri": "https://localhost:8080/"
        },
        "id": "mHE3CawTt0pS",
        "outputId": "e6dd025f-eb62-4ef3-d8b8-ed5e9e401880"
      },
      "source": [
        "\n",
        "train_ds = PetDataset_imsi(data_root='/content/data', ann_file='train.txt', img_prefix='images')\n",
        "print(train_ds.data_infos[:10])"
      ],
      "execution_count": 35,
      "outputs": [
        {
          "output_type": "stream",
          "text": [
            "[{'filename': '/content/data/images/Abyssinian_1.jpg', 'width': 600, 'height': 400, 'ann': {'bboxes': array([[333.,  72., 425., 158.]], dtype=float32), 'labels': array([0]), 'bboxes_ignore': array([], shape=(0, 4), dtype=float32), 'labels_ignore': array([], dtype=int64)}}, {'filename': '/content/data/images/Abyssinian_10.jpg', 'width': 375, 'height': 500, 'ann': {'bboxes': array([[ 72., 105., 288., 291.]], dtype=float32), 'labels': array([0]), 'bboxes_ignore': array([], shape=(0, 4), dtype=float32), 'labels_ignore': array([], dtype=int64)}}, {'filename': '/content/data/images/Abyssinian_101.jpg', 'width': 450, 'height': 313, 'ann': {'bboxes': array([[ 54.,  36., 319., 235.]], dtype=float32), 'labels': array([0]), 'bboxes_ignore': array([], shape=(0, 4), dtype=float32), 'labels_ignore': array([], dtype=int64)}}, {'filename': '/content/data/images/Abyssinian_102.jpg', 'width': 500, 'height': 465, 'ann': {'bboxes': array([[ 23.,  27., 325., 320.]], dtype=float32), 'labels': array([0]), 'bboxes_ignore': array([], shape=(0, 4), dtype=float32), 'labels_ignore': array([], dtype=int64)}}, {'filename': '/content/data/images/Abyssinian_103.jpg', 'width': 500, 'height': 351, 'ann': {'bboxes': array([[241.,  68., 362., 196.]], dtype=float32), 'labels': array([0]), 'bboxes_ignore': array([], shape=(0, 4), dtype=float32), 'labels_ignore': array([], dtype=int64)}}, {'filename': '/content/data/images/Abyssinian_105.jpg', 'width': 500, 'height': 375, 'ann': {'bboxes': array([[237., 101., 373., 227.]], dtype=float32), 'labels': array([0]), 'bboxes_ignore': array([], shape=(0, 4), dtype=float32), 'labels_ignore': array([], dtype=int64)}}, {'filename': '/content/data/images/Abyssinian_106.jpg', 'width': 1536, 'height': 1024, 'ann': {'bboxes': array([[ 861.,  156., 1302.,  563.]], dtype=float32), 'labels': array([0]), 'bboxes_ignore': array([], shape=(0, 4), dtype=float32), 'labels_ignore': array([], dtype=int64)}}, {'filename': '/content/data/images/Abyssinian_107.jpg', 'width': 500, 'height': 448, 'ann': {'bboxes': array([[ 94.,  76., 275., 271.]], dtype=float32), 'labels': array([0]), 'bboxes_ignore': array([], shape=(0, 4), dtype=float32), 'labels_ignore': array([], dtype=int64)}}, {'filename': '/content/data/images/Abyssinian_108.jpg', 'width': 500, 'height': 404, 'ann': {'bboxes': array([[ 50.,  14., 336., 304.]], dtype=float32), 'labels': array([0]), 'bboxes_ignore': array([], shape=(0, 4), dtype=float32), 'labels_ignore': array([], dtype=int64)}}, {'filename': '/content/data/images/Abyssinian_109.jpg', 'width': 282, 'height': 450, 'ann': {'bboxes': array([[ 81.,   7., 246., 146.]], dtype=float32), 'labels': array([0]), 'bboxes_ignore': array([], shape=(0, 4), dtype=float32), 'labels_ignore': array([], dtype=int64)}}]\n"
          ],
          "name": "stdout"
        }
      ]
    },
    {
      "cell_type": "code",
      "metadata": {
        "id": "VV46NgaZt10z"
      },
      "source": [
        "config_file = './mmdetection/configs/faster_rcnn/faster_rcnn_r50_fpn_1x_coco.py'\n",
        "checkpoint_file = './mmdetection/checkpoints/faster_rcnn_r50_fpn_1x_coco_20200130-047c8118.pth'"
      ],
      "execution_count": 37,
      "outputs": []
    },
    {
      "cell_type": "code",
      "metadata": {
        "id": "-O3pmWzb9vXZ"
      },
      "source": [
        "!cd mmdetection; mkdir checkpoints\n",
        "!wget -O ./mmdetection/checkpoints/faster_rcnn_r50_fpn_1x_coco_20200130-047c8118.pth http://download.openmmlab.com/mmdetection/v2.0/faster_rcnn/faster_rcnn_r50_fpn_1x_coco/faster_rcnn_r50_fpn_1x_coco_20200130-047c8118.pth"
      ],
      "execution_count": null,
      "outputs": []
    },
    {
      "cell_type": "code",
      "metadata": {
        "id": "JElJOQuK_K3E"
      },
      "source": [
        "from mmcv import Config\n",
        "\n",
        "cfg = Config.fromfile(config_file)\n",
        "print(cfg.pretty_text)"
      ],
      "execution_count": null,
      "outputs": []
    },
    {
      "cell_type": "code",
      "metadata": {
        "id": "EnDZ151C_RuW"
      },
      "source": [
        "from mmdet.apis import set_random_seed\n",
        "\n",
        "\n",
        "cfg.dataset_type = 'PetDataset'\n",
        "cfg.data_root = '/content/data/'\n",
        "\n",
        "\n",
        "cfg.data.train.type = 'PetDataset'\n",
        "cfg.data.train.data_root = '/content/data/'\n",
        "cfg.data.train.ann_file = 'train.txt'\n",
        "cfg.data.train.img_prefix = 'images'\n",
        "\n",
        "cfg.data.val.type = 'PetDataset'\n",
        "cfg.data.val.data_root = '/content/data/'\n",
        "cfg.data.val.ann_file = 'val.txt'\n",
        "cfg.data.val.img_prefix = 'images'\n",
        "\n",
        ". \n",
        "cfg.model.roi_head.bbox_head.num_classes = 37\n",
        "cfg.load_from = 'checkpoints/faster_rcnn_r50_fpn_1x_coco_20200130-047c8118.pth'\n",
        "\n",
        "cfg.work_dir = '/mydrive/pet_work_dir'\n",
        "\n",
        "\n",
        "cfg.optimizer.lr = 0.02 / 8\n",
        "cfg.lr_config.warmup = None\n",
        "cfg.log_config.interval = 5\n",
        "cfg.runner.max_epochs = 5\n",
        "\n",
        "\n",
        "cfg.evaluation.metric = 'mAP'\n",
        "cfg.evaluation.interval = 5\n",
        "cfg.checkpoint_config.interval = 5\n",
        "cfg.data.samples_per_gpu = 4\n",
        "cfg.seed = 0\n",
        "set_random_seed(0, deterministic=False)\n",
        "cfg.gpu_ids = range(1)\n",
        "\n",
        "cfg.lr_config.policy='step'\n",
        "\n",
        "print(f'Config:\\n{cfg.pretty_text}')"
      ],
      "execution_count": null,
      "outputs": []
    },
    {
      "cell_type": "code",
      "metadata": {
        "colab": {
          "base_uri": "https://localhost:8080/"
        },
        "id": "5xNSUcWg_Wyo",
        "outputId": "641b4690-85f1-4935-b299-ce0eba5484d3"
      },
      "source": [
        "from mmdet.datasets import build_dataset\n",
        "from mmdet.models import build_detector\n",
        "from mmdet.apis import train_detector\n",
        "\n",
        "# train용 Dataset 생성. \n",
        "datasets = [build_dataset(cfg.data.train)]"
      ],
      "execution_count": 41,
      "outputs": [
        {
          "output_type": "stream",
          "text": [
            "/usr/local/lib/python3.7/dist-packages/mmdet-2.14.0-py3.7.egg/mmdet/datasets/custom.py:156: UserWarning: CustomDataset does not support filtering empty gt images.\n",
            "  'CustomDataset does not support filtering empty gt images.')\n"
          ],
          "name": "stderr"
        }
      ]
    },
    {
      "cell_type": "code",
      "metadata": {
        "colab": {
          "base_uri": "https://localhost:8080/"
        },
        "id": "LMQd-RTu_7iC",
        "outputId": "1f621417-466d-4e69-ba1e-dbebbb1b74e2"
      },
      "source": [
        "datasets"
      ],
      "execution_count": 42,
      "outputs": [
        {
          "output_type": "execute_result",
          "data": {
            "text/plain": [
              "[\n",
              " PetDataset Train dataset with number of images 3304, and instance counts: \n",
              " +-----------------------+-------+-------------------------+-------+-------------------------------+-------+---------------------+-------+---------------------------------+-------+\n",
              " | category              | count | category                | count | category                      | count | category            | count | category                        | count |\n",
              " +-----------------------+-------+-------------------------+-------+-------------------------------+-------+---------------------+-------+---------------------------------+-------+\n",
              " | 0 [Abyssinian]        | 89    | 1 [american_bulldog]    | 90    | 2 [american_pit_bull_terrier] | 90    | 3 [basset_hound]    | 90    | 4 [beagle]                      | 90    |\n",
              " | 5 [Bengal]            | 89    | 6 [Birman]              | 90    | 7 [Bombay]                    | 86    | 8 [boxer]           | 90    | 9 [British_Shorthair]           | 90    |\n",
              " | 10 [chihuahua]        | 90    | 11 [Egyptian_Mau]       | 81    | 12 [english_cocker_spaniel]   | 86    | 13 [english_setter] | 90    | 14 [german_shorthaired]         | 90    |\n",
              " | 15 [great_pyrenees]   | 90    | 16 [havanese]           | 90    | 17 [japanese_chin]            | 90    | 18 [keeshond]       | 90    | 19 [leonberger]                 | 90    |\n",
              " | 20 [Maine_Coon]       | 90    | 21 [miniature_pinscher] | 90    | 22 [newfoundland]             | 87    | 23 [Persian]        | 90    | 24 [pomeranian]                 | 90    |\n",
              " | 25 [pug]              | 90    | 26 [Ragdoll]            | 89    | 27 [Russian_Blue]             | 90    | 28 [saint_bernard]  | 89    | 29 [samoyed]                    | 90    |\n",
              " | 30 [scottish_terrier] | 90    | 31 [shiba_inu]          | 90    | 32 [Siamese]                  | 89    | 33 [Sphynx]         | 90    | 34 [staffordshire_bull_terrier] | 90    |\n",
              " +-----------------------+-------+-------------------------+-------+-------------------------------+-------+---------------------+-------+---------------------------------+-------+]"
            ]
          },
          "metadata": {
            "tags": []
          },
          "execution_count": 42
        }
      ]
    },
    {
      "cell_type": "code",
      "metadata": {
        "id": "U94663g-_085"
      },
      "source": [
        "%cd mmdetection\n",
        "\n",
        "model = build_detector(cfg.model, train_cfg=cfg.get('train_cfg'), test_cfg=cfg.get('test_cfg'))\n",
        "model.CLASSES = datasets[0].CLASSES\n",
        "mmcv.mkdir_or_exist(osp.abspath(cfg.work_dir))\n",
        "\n",
        "train_detector(model, datasets, cfg, distributed=False, validate=True)"
      ],
      "execution_count": null,
      "outputs": []
    },
    {
      "cell_type": "code",
      "metadata": {
        "id": "7jwaHUpD_85y"
      },
      "source": [
        "from mmdet.apis import inference_detector, init_detector, show_result_pyplot\n",
        "\n",
        "\n",
        "img = cv2.imread('/content/data/images/Abyssinian_88.jpg')\n",
        "model.cfg = cfg\n",
        "\n",
        "result = inference_detector(model, img)\n",
        "show_result_pyplot(model, img, result, score_thr=0.3)"
      ],
      "execution_count": null,
      "outputs": []
    },
    {
      "cell_type": "code",
      "metadata": {
        "id": "VFtCf1TtFLJ2"
      },
      "source": [
        "from mmdet.apis import show_result_pyplot\n",
        "\n",
        "checkpoint_file = '/mydrive/pet_work_dir/epoch_5.pth'\n",
        "\n",
        "# checkpoint 저장된 model 파일을 이용하여 모델을 생성, 이때 Config는 위에서 update된 config 사용. \n",
        "model_ckpt = init_detector(cfg, checkpoint_file, device='cuda:0')\n",
        "img = cv2.imread('/content/data/images/Abyssinian_88.jpg')\n",
        "\n",
        "\n",
        "result = inference_detector(model_ckpt, img)\n",
        "show_result_pyplot(model_ckpt, img, result, score_thr=0.3)"
      ],
      "execution_count": null,
      "outputs": []
    }
  ]
}