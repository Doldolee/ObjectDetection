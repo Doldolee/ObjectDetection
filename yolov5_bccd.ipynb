{
  "nbformat": 4,
  "nbformat_minor": 0,
  "metadata": {
    "colab": {
      "name": "yolov5_bccd.ipynb",
      "provenance": [],
      "authorship_tag": "ABX9TyPfeeY6vwKXxpmlGaiz3ARN",
      "include_colab_link": true
    },
    "kernelspec": {
      "name": "python3",
      "display_name": "Python 3"
    },
    "language_info": {
      "name": "python"
    }
  },
  "cells": [
    {
      "cell_type": "markdown",
      "metadata": {
        "id": "view-in-github",
        "colab_type": "text"
      },
      "source": [
        "<a href=\"https://colab.research.google.com/github/someStone/ObjectDetection/blob/main/yolov5_bccd.ipynb\" target=\"_parent\"><img src=\"https://colab.research.google.com/assets/colab-badge.svg\" alt=\"Open In Colab\"/></a>"
      ]
    },
    {
      "cell_type": "code",
      "metadata": {
        "colab": {
          "base_uri": "https://localhost:8080/"
        },
        "id": "5Z-z8SDH7ehb",
        "outputId": "6b32c2f2-279e-4cdb-ab40-d575785de315"
      },
      "source": [
        "!git clone https://github.com/ultralytics/yolov5\n",
        "!cd yolov5;pip install -qr requirements.txt"
      ],
      "execution_count": 1,
      "outputs": [
        {
          "output_type": "stream",
          "text": [
            "Cloning into 'yolov5'...\n",
            "remote: Enumerating objects: 8440, done.\u001b[K\n",
            "remote: Counting objects: 100% (154/154), done.\u001b[K\n",
            "remote: Compressing objects: 100% (110/110), done.\u001b[K\n",
            "remote: Total 8440 (delta 72), reused 89 (delta 44), pack-reused 8286\u001b[K\n",
            "Receiving objects: 100% (8440/8440), 9.60 MiB | 20.66 MiB/s, done.\n",
            "Resolving deltas: 100% (5812/5812), done.\n",
            "\u001b[K     |████████████████████████████████| 636 kB 8.1 MB/s \n",
            "\u001b[?25h"
          ],
          "name": "stdout"
        }
      ]
    },
    {
      "cell_type": "code",
      "metadata": {
        "colab": {
          "base_uri": "https://localhost:8080/"
        },
        "id": "k6B2DDZZ7oXB",
        "outputId": "b629cfdc-456a-425d-a18a-7fe847de7e57"
      },
      "source": [
        "import os\n",
        "\n",
        "!git clone https://github.com/Shenggan/BCCD_Dataset.git\n",
        "!git clone https://github.com/yukkyo/voc2coco.git"
      ],
      "execution_count": 2,
      "outputs": [
        {
          "output_type": "stream",
          "text": [
            "Cloning into 'BCCD_Dataset'...\n",
            "remote: Enumerating objects: 800, done.\u001b[K\n",
            "remote: Total 800 (delta 0), reused 0 (delta 0), pack-reused 800\u001b[K\n",
            "Receiving objects: 100% (800/800), 7.39 MiB | 30.75 MiB/s, done.\n",
            "Resolving deltas: 100% (378/378), done.\n",
            "Cloning into 'voc2coco'...\n",
            "remote: Enumerating objects: 420, done.\u001b[K\n",
            "remote: Counting objects: 100% (11/11), done.\u001b[K\n",
            "remote: Compressing objects: 100% (8/8), done.\u001b[K\n",
            "remote: Total 420 (delta 3), reused 8 (delta 3), pack-reused 409\u001b[K\n",
            "Receiving objects: 100% (420/420), 213.31 KiB | 7.36 MiB/s, done.\n",
            "Resolving deltas: 100% (379/379), done.\n"
          ],
          "name": "stdout"
        }
      ]
    },
    {
      "cell_type": "code",
      "metadata": {
        "id": "S2m-VavC8_Kk"
      },
      "source": [
        "import os\n",
        "\n",
        "!git clone https://github.com/Shenggan/BCCD_Dataset.git\n",
        "!git clone https://github.com/yukkyo/voc2coco.git\n",
        "\n",
        " \n",
        "with open('/content/BCCD_Dataset/BCCD/labels.txt', \"w\") as f:\n",
        "    f.write(\"WBC\\n\")\n",
        "    f.write(\"RBC\\n\")\n",
        "    f.write(\"Platelets\\n\")\n",
        "\n",
        "!cat /content/BCCD_Dataset/BCCD/labels.txt\n",
        "\n",
        "# VOC를 COCO로 변환 수행. 학습/검증/테스트 용 json annotation을 생성. \n",
        "%cd voc2coco\n",
        "!python voc2coco.py --ann_dir /content/BCCD_Dataset/BCCD/Annotations \\\n",
        "--ann_ids /content/BCCD_Dataset/BCCD/ImageSets/Main/train.txt \\\n",
        "--labels /content/BCCD_Dataset/BCCD/labels.txt \\\n",
        "--output /content/BCCD_Dataset/BCCD/train.json \\\n",
        "--ext xml\n",
        "\n",
        "!python voc2coco.py --ann_dir /content/BCCD_Dataset/BCCD/Annotations \\\n",
        "--ann_ids /content/BCCD_Dataset/BCCD/ImageSets/Main/val.txt \\\n",
        "--labels /content/BCCD_Dataset/BCCD/labels.txt \\\n",
        "--output /content/BCCD_Dataset/BCCD/val.json \\\n",
        "--ext xml\n",
        "\n",
        "!python voc2coco.py --ann_dir /content/BCCD_Dataset/BCCD/Annotations \\\n",
        "--ann_ids /content/BCCD_Dataset/BCCD/ImageSets/Main/test.txt \\\n",
        "--labels /content/BCCD_Dataset/BCCD/labels.txt \\\n",
        "--output /content/BCCD_Dataset/BCCD/test.json \\\n",
        "--ext xml\n",
        "\n",
        "# annotation json 파일을 잘 볼수 있는 jq 유틸리티 셋업. \n",
        "!sudo apt-get install jq\n",
        "!jq . /content/BCCD_Dataset/BCCD/train.json > output.json\n",
        "!tail -100 output.json"
      ],
      "execution_count": null,
      "outputs": []
    },
    {
      "cell_type": "code",
      "metadata": {
        "id": "wFljLWf-9Oad"
      },
      "source": [
        "# https://github.com/alexmihalyk23/COCO2YOLO.git\n",
        "import json\n",
        "import os\n",
        "import shutil\n",
        "\n",
        "class COCO2YOLO:\n",
        "  # 소스 이미지 디렉토리와 Json annotation 파일, 타겟 이미지 디렉토리, 타겟 annotation 디렉토리를 생성자로 입력 받음. \n",
        "  def __init__(self, src_img_dir, json_file, tgt_img_dir, tgt_anno_dir):\n",
        "    self.json_file = json_file\n",
        "    self.src_img_dir = src_img_dir\n",
        "    self.tgt_img_dir = tgt_img_dir\n",
        "    self.tgt_anno_dir = tgt_anno_dir\n",
        "    # json 파일과 타겟 디렉토리가 존재하는지 확인하고, 디렉토리의 경우는 없으면 생성. \n",
        "    self._check_file_and_dir(json_file, tgt_img_dir, tgt_anno_dir)\n",
        "    # json 파일을 메모리로 로딩. \n",
        "    self.labels = json.load(open(json_file, 'r', encoding='utf-8'))\n",
        "    # category id와 이름을 매핑하지만, 실제 class id는 이를 적용하지 않고 별도 적용. \n",
        "    self.coco_id_name_map = self._categories()\n",
        "    self.coco_name_list = list(self.coco_id_name_map.values())\n",
        "    print(\"total images\", len(self.labels['images']))\n",
        "    print(\"total categories\", len(self.labels['categories']))\n",
        "    print(\"total labels\", len(self.labels['annotations']))\n",
        "  \n",
        "  # json 파일과 타겟 디렉토리가 존재하는지 확인하고, 디렉토리의 경우는 없으면 생성. \n",
        "  def _check_file_and_dir(self, file_path, tgt_img_dir, tgt_anno_dir):\n",
        "    if not os.path.exists(file_path):\n",
        "        raise ValueError(\"file not found\")\n",
        "    if not os.path.exists(tgt_img_dir):\n",
        "        os.makedirs(tgt_img_dir)\n",
        "    if not os.path.exists(tgt_anno_dir):\n",
        "        os.makedirs(tgt_anno_dir)\n",
        "\n",
        "  # category id와 이름을 매핑하지만, 추후에 class 명만 활용. \n",
        "  def _categories(self):\n",
        "    categories = {}\n",
        "    for cls in self.labels['categories']:\n",
        "        categories[cls['id']] = cls['name']\n",
        "    return categories\n",
        "  \n",
        "  # annotation에서 모든 image의 파일명(절대 경로 아님)과 width, height 정보 저장. \n",
        "  def _load_images_info(self):\n",
        "    images_info = {}\n",
        "    for image in self.labels['images']:\n",
        "        id = image['id']\n",
        "        file_name = image['file_name']\n",
        "        if file_name.find('\\\\') > -1:\n",
        "            file_name = file_name[file_name.index('\\\\')+1:]\n",
        "        w = image['width']\n",
        "        h = image['height']\n",
        "  \n",
        "        images_info[id] = (file_name, w, h)\n",
        "\n",
        "    return images_info\n",
        "\n",
        "  # ms-coco의 bbox annotation은 yolo format으로 변환. 좌상단 x, y좌표, width, height 기반을 정규화된 center x,y 와 width, height로 변환. \n",
        "  def _bbox_2_yolo(self, bbox, img_w, img_h):\n",
        "    # ms-coco는 좌상단 x, y좌표, width, height\n",
        "    x, y, w, h = bbox[0], bbox[1], bbox[2], bbox[3]\n",
        "    # center x좌표는 좌상단 x좌표에서 width의 절반을 더함. center y좌표는 좌상단 y좌표에서 height의 절반을 더함.  \n",
        "    centerx = bbox[0] + w / 2\n",
        "    centery = bbox[1] + h / 2\n",
        "    # centerx, centery, width, height를 이미지의 width/height로 정규화. \n",
        "    dw = 1 / img_w\n",
        "    dh = 1 / img_h\n",
        "    centerx *= dw\n",
        "    w *= dw\n",
        "    centery *= dh\n",
        "    h *= dh\n",
        "    return centerx, centery, w, h\n",
        "  \n",
        "  # image와 annotation 정보를 기반으로 image명과 yolo annotation 정보 가공. \n",
        "  # 개별 image당 하나의 annotation 정보를 가지도록 변환. \n",
        "  def _convert_anno(self, images_info):\n",
        "    anno_dict = dict()\n",
        "    for anno in self.labels['annotations']:\n",
        "      bbox = anno['bbox']\n",
        "      image_id = anno['image_id']\n",
        "      category_id = anno['category_id']\n",
        "\n",
        "      image_info = images_info.get(image_id)\n",
        "      image_name = image_info[0]\n",
        "      img_w = image_info[1]\n",
        "      img_h = image_info[2]\n",
        "      yolo_box = self._bbox_2_yolo(bbox, img_w, img_h)\n",
        "\n",
        "      anno_info = (image_name, category_id, yolo_box)\n",
        "      anno_infos = anno_dict.get(image_id)\n",
        "      if not anno_infos:\n",
        "        anno_dict[image_id] = [anno_info]\n",
        "      else:\n",
        "        anno_infos.append(anno_info)\n",
        "        anno_dict[image_id] = anno_infos\n",
        "    return anno_dict\n",
        "\n",
        "  # class 명을 파일로 저장하는 로직. 사용하지 않음. \n",
        "  def save_classes(self):\n",
        "    sorted_classes = list(map(lambda x: x['name'], sorted(self.labels['categories'], key=lambda x: x['id'])))\n",
        "    print('coco names', sorted_classes)\n",
        "    with open('coco.names', 'w', encoding='utf-8') as f:\n",
        "      for cls in sorted_classes:\n",
        "          f.write(cls + '\\n')\n",
        "    f.close()\n",
        "  # _convert_anno(images_info)로 만들어진 anno 정보를 개별 yolo anno txt 파일로 생성하는 로직. \n",
        "  # coco2yolo()에서 anno_dict = self._convert_anno(images_info)로 만들어진 anno_dict를 _save_txt()에 입력하여 파일 생성\n",
        "  def _save_txt(self, anno_dict):\n",
        "    # 개별 image별로 소스 image는 타겟이미지 디렉토리로 복사하고, 개별 annotation을 타겟 anno 디렉토리로 생성. \n",
        "    for k, v in anno_dict.items():\n",
        "      # 소스와 타겟 파일의 절대 경로 생성. \n",
        "      src_img_filename = os.path.join(self.src_img_dir, v[0][0])\n",
        "      tgt_anno_filename = os.path.join(self.tgt_anno_dir,v[0][0].split(\".\")[0] + \".txt\")\n",
        "      #print('source image filename:', src_img_filename, 'target anno filename:', tgt_anno_filename)\n",
        "      # 이미지 파일의 경우 타겟 디렉토리로 단순 복사. \n",
        "      shutil.copy(src_img_filename, self.tgt_img_dir)\n",
        "      # 타겟 annotation 출력 파일명으로 classid, bbox 좌표를 object 별로 생성. \n",
        "      with open(tgt_anno_filename, 'w', encoding='utf-8') as f:\n",
        "        #print(k, v)\n",
        "        # 여러개의 object 별로 classid와 bbox 좌표를 생성. \n",
        "        for obj in v:\n",
        "          cat_name = self.coco_id_name_map.get(obj[1])\n",
        "          # category_id는 class 명에 따라 0부터 순차적으로 부여. \n",
        "          category_id = self.coco_name_list.index(cat_name)\n",
        "          #print('cat_name:', cat_name, 'category_id:', category_id)\n",
        "          box = ['{:.6f}'.format(x) for x in obj[2]]\n",
        "          box = ' '.join(box)\n",
        "          line = str(category_id) + ' ' + box\n",
        "          f.write(line + '\\n')\n",
        "\n",
        "  # ms-coco를 yolo format으로 변환. \n",
        "  def coco2yolo(self):\n",
        "    print(\"loading image info...\")\n",
        "    images_info = self._load_images_info()\n",
        "    print(\"loading done, total images\", len(images_info))\n",
        "\n",
        "    print(\"start converting...\")\n",
        "    anno_dict = self._convert_anno(images_info)\n",
        "    print(\"converting done, total labels\", len(anno_dict))\n",
        "\n",
        "    print(\"saving txt file...\")\n",
        "    self._save_txt(anno_dict)\n",
        "    print(\"saving done\")\n",
        "\n",
        "  "
      ],
      "execution_count": null,
      "outputs": []
    },
    {
      "cell_type": "code",
      "metadata": {
        "id": "u4r5f3EYAKxA"
      },
      "source": [
        "!wget -O /content/bccd/bccd.yaml https://raw.githubusercontent.com/chulminkw/DLCV/master/data/util/bccd.yaml"
      ],
      "execution_count": null,
      "outputs": []
    },
    {
      "cell_type": "code",
      "metadata": {
        "id": "TM3xS1_aAM2b"
      },
      "source": [
        "import os, sys \n",
        "from google.colab import drive \n",
        "\n",
        "drive.mount('/content/gdrive')"
      ],
      "execution_count": null,
      "outputs": []
    },
    {
      "cell_type": "code",
      "metadata": {
        "id": "tSSZxjYWAOGK"
      },
      "source": [
        "!ln -s /content/gdrive/My\\ Drive/ /mydrive\n",
        "!ls /mydrive\n",
        "\n",
        "!mkdir \"/mydrive/ultra_workdir\""
      ],
      "execution_count": null,
      "outputs": []
    },
    {
      "cell_type": "code",
      "metadata": {
        "id": "3eq6CV2rAPzm"
      },
      "source": [
        "!cd /content/yolov5; python train.py --img 640 --batch 8 --epochs 30 --data /content/bccd/bccd.yaml --weights yolov5l.pt \\\n",
        "                                     --project=/mydrive/ultra_workdir --name bccd --exist-ok "
      ],
      "execution_count": null,
      "outputs": []
    },
    {
      "cell_type": "code",
      "metadata": {
        "id": "TF64BwyxB47c"
      },
      "source": [
        "!cd /content/yolov5;python detect.py --source /content/bccd/images/test/BloodImage_00011.jpg \\\n",
        "                            --weights /mydrive/ultra_workdir/bccd/weights/best.pt --conf 0.2 \\\n",
        "                            --project=/content/data/output --name=run_image --exist-ok --line-thickness 2"
      ],
      "execution_count": null,
      "outputs": []
    },
    {
      "cell_type": "code",
      "metadata": {
        "id": "V3Z421svB6uI"
      },
      "source": [
        "!cd /content/yolov5; python test.py --weights /mydrive/ultra_workdir/bccd/weights/best.pt  --data /content/bccd/bccd.yaml \\\n",
        "                           --project /content/data/output --name=test_result --exist-ok --img 640 --iou 0.65\n"
      ],
      "execution_count": null,
      "outputs": []
    }
  ]
}